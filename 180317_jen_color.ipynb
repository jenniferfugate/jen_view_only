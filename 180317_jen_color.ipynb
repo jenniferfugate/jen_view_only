{
 "cells": [
  {
   "cell_type": "code",
   "execution_count": null,
   "metadata": {
    "collapsed": true
   },
   "outputs": [],
   "source": [
    "#Instruction\n",
    "#To run this code, install Anaconda distribution for Mac \n",
    "#Link: https://www.anaconda.com/download/\n",
    "#Then download all the code + the csv file /jen_color/color_emotion.csv \n",
    "#launch conda & run the code"
   ]
  },
  {
   "cell_type": "code",
   "execution_count": 2,
   "metadata": {
    "collapsed": true
   },
   "outputs": [],
   "source": [
    "import pandas as pd\n",
    "import numpy as np\n",
    "%matplotlib inline\n",
    "import matplotlib.pyplot as plt"
   ]
  },
  {
   "cell_type": "code",
   "execution_count": 3,
   "metadata": {},
   "outputs": [
    {
     "data": {
      "text/html": [
       "<div>\n",
       "<style>\n",
       "    .dataframe thead tr:only-child th {\n",
       "        text-align: right;\n",
       "    }\n",
       "\n",
       "    .dataframe thead th {\n",
       "        text-align: left;\n",
       "    }\n",
       "\n",
       "    .dataframe tbody tr th {\n",
       "        vertical-align: top;\n",
       "    }\n",
       "</style>\n",
       "<table border=\"1\" class=\"dataframe\">\n",
       "  <thead>\n",
       "    <tr style=\"text-align: right;\">\n",
       "      <th></th>\n",
       "      <th>newsubj</th>\n",
       "      <th>Fixed_label</th>\n",
       "      <th>anger_intensity</th>\n",
       "      <th>calm_intensity</th>\n",
       "      <th>contempt_intensity</th>\n",
       "      <th>envy_intensity</th>\n",
       "      <th>disgust_intensity</th>\n",
       "      <th>fear_intensity</th>\n",
       "      <th>happy_intensity</th>\n",
       "      <th>jealousy_intensity</th>\n",
       "      <th>sad_intensity</th>\n",
       "      <th>surprise_intensity</th>\n",
       "      <th>Free_label</th>\n",
       "      <th>EmotionCount</th>\n",
       "    </tr>\n",
       "  </thead>\n",
       "  <tbody>\n",
       "    <tr>\n",
       "      <th>0</th>\n",
       "      <td>1</td>\n",
       "      <td>black</td>\n",
       "      <td>10.0</td>\n",
       "      <td>0</td>\n",
       "      <td>0.0</td>\n",
       "      <td>0.0</td>\n",
       "      <td>10</td>\n",
       "      <td>0.0</td>\n",
       "      <td>0.0</td>\n",
       "      <td>9</td>\n",
       "      <td>10.0</td>\n",
       "      <td>0.0</td>\n",
       "      <td>black</td>\n",
       "      <td>4</td>\n",
       "    </tr>\n",
       "    <tr>\n",
       "      <th>1</th>\n",
       "      <td>1</td>\n",
       "      <td>blue</td>\n",
       "      <td>9.0</td>\n",
       "      <td>0</td>\n",
       "      <td>0.0</td>\n",
       "      <td>9.0</td>\n",
       "      <td>0</td>\n",
       "      <td>0.0</td>\n",
       "      <td>0.0</td>\n",
       "      <td>0</td>\n",
       "      <td>9.0</td>\n",
       "      <td>0.0</td>\n",
       "      <td>blue</td>\n",
       "      <td>3</td>\n",
       "    </tr>\n",
       "    <tr>\n",
       "      <th>2</th>\n",
       "      <td>1</td>\n",
       "      <td>brown</td>\n",
       "      <td>5.0</td>\n",
       "      <td>0</td>\n",
       "      <td>0.0</td>\n",
       "      <td>0.0</td>\n",
       "      <td>9</td>\n",
       "      <td>0.0</td>\n",
       "      <td>0.0</td>\n",
       "      <td>0</td>\n",
       "      <td>0.0</td>\n",
       "      <td>0.0</td>\n",
       "      <td>chesnut</td>\n",
       "      <td>2</td>\n",
       "    </tr>\n",
       "    <tr>\n",
       "      <th>3</th>\n",
       "      <td>1</td>\n",
       "      <td>bubblegum</td>\n",
       "      <td>0.0</td>\n",
       "      <td>0</td>\n",
       "      <td>0.0</td>\n",
       "      <td>0.0</td>\n",
       "      <td>0</td>\n",
       "      <td>0.0</td>\n",
       "      <td>0.0</td>\n",
       "      <td>0</td>\n",
       "      <td>0.0</td>\n",
       "      <td>10.0</td>\n",
       "      <td>fuschia</td>\n",
       "      <td>1</td>\n",
       "    </tr>\n",
       "    <tr>\n",
       "      <th>4</th>\n",
       "      <td>1</td>\n",
       "      <td>cranberry</td>\n",
       "      <td>0.0</td>\n",
       "      <td>0</td>\n",
       "      <td>0.0</td>\n",
       "      <td>0.0</td>\n",
       "      <td>0</td>\n",
       "      <td>0.0</td>\n",
       "      <td>0.0</td>\n",
       "      <td>0</td>\n",
       "      <td>0.0</td>\n",
       "      <td>0.0</td>\n",
       "      <td>magenta</td>\n",
       "      <td>0</td>\n",
       "    </tr>\n",
       "  </tbody>\n",
       "</table>\n",
       "</div>"
      ],
      "text/plain": [
       "   newsubj Fixed_label  anger_intensity  calm_intensity  contempt_intensity  \\\n",
       "0        1       black             10.0               0                 0.0   \n",
       "1        1        blue              9.0               0                 0.0   \n",
       "2        1       brown              5.0               0                 0.0   \n",
       "3        1   bubblegum              0.0               0                 0.0   \n",
       "4        1   cranberry              0.0               0                 0.0   \n",
       "\n",
       "   envy_intensity  disgust_intensity  fear_intensity  happy_intensity  \\\n",
       "0             0.0                 10             0.0              0.0   \n",
       "1             9.0                  0             0.0              0.0   \n",
       "2             0.0                  9             0.0              0.0   \n",
       "3             0.0                  0             0.0              0.0   \n",
       "4             0.0                  0             0.0              0.0   \n",
       "\n",
       "   jealousy_intensity  sad_intensity  surprise_intensity Free_label  \\\n",
       "0                   9           10.0                 0.0      black   \n",
       "1                   0            9.0                 0.0       blue   \n",
       "2                   0            0.0                 0.0    chesnut   \n",
       "3                   0            0.0                10.0    fuschia   \n",
       "4                   0            0.0                 0.0    magenta   \n",
       "\n",
       "   EmotionCount  \n",
       "0             4  \n",
       "1             3  \n",
       "2             2  \n",
       "3             1  \n",
       "4             0  "
      ]
     },
     "execution_count": 3,
     "metadata": {},
     "output_type": "execute_result"
    }
   ],
   "source": [
    "#read raw data from csv file\n",
    "rawdata=pd.read_csv('./jen_color/color_emotion.csv')\n",
    "#view raw data\n",
    "rawdata.head()"
   ]
  },
  {
   "cell_type": "code",
   "execution_count": 4,
   "metadata": {},
   "outputs": [
    {
     "name": "stdout",
     "output_type": "stream",
     "text": [
      "Emotion Category ['anger', 'calm', 'contempt', 'envy', 'disgust', 'fear', 'happy', 'jealousy', 'sad', 'surprise']\n"
     ]
    }
   ],
   "source": [
    "#Get the list of emotion category from color_emotion.csv column\n",
    "EMO_CAT=[i.split('_')[0] for i in rawdata.columns[2:-2].tolist()]\n",
    "print('Emotion Category',EMO_CAT)"
   ]
  },
  {
   "cell_type": "code",
   "execution_count": 5,
   "metadata": {},
   "outputs": [
    {
     "name": "stdout",
     "output_type": "stream",
     "text": [
      "Number of fixed label = 23\n",
      "Fixed labels are : ['black' 'blue' 'brown' 'bubblegum' 'cranberry' 'gray' 'jade' 'kellygreen'\n",
      " 'lightblue' 'lilac' 'mustard' 'neongreen' 'olive' 'orange' 'pink' 'red'\n",
      " 'salmon' 'seablue' 'skyblue' 'turquiose' 'violet' 'white' 'yellow']\n"
     ]
    }
   ],
   "source": [
    "#get list of unique fixed_color labels\n",
    "COLOR_FIXED=rawdata.Fixed_label.unique()\n",
    "print('Number of fixed label =',len(COLOR_FIXED))\n",
    "print('Fixed labels are :',COLOR_FIXED)"
   ]
  },
  {
   "cell_type": "code",
   "execution_count": 6,
   "metadata": {
    "collapsed": true
   },
   "outputs": [],
   "source": [
    "#for each emotion category, for each color\n",
    "#1. retrieve the intensity array\n",
    "#2. retrieve the table of frequency of color for each emotion\n",
    "intensityDict=dict()\n",
    "for indexE,iEmo in enumerate(EMO_CAT):\n",
    "    columnName=iEmo+'_intensity'  \n",
    "    intensityDict[iEmo]=dict()\n",
    "    intensityDict[iEmo]['sum']=pd.DataFrame(columns=['colorFixed', 'frequency'])\n",
    "    intensityDict[indexE]=dict()\n",
    "    for indexC,iColor in enumerate(COLOR_FIXED):\n",
    "        #print(indexE,iEmo,columnName,indexC,iColor)\n",
    "        \n",
    "        #1. retrieve the intensity array\n",
    "        intensityDict[iEmo][iColor]=rawdata[columnName][rawdata.Fixed_label==iColor][rawdata[columnName]>0]\n",
    "        #2. retrieve the table of frequency of color for each emotion\n",
    "        #Note: store as pandas dataframe for ease of statistical processing (i.e histogram, sum, sort, etc.)\n",
    "        intensityDict[iEmo]['sum'].loc[indexC]=[iColor,(rawdata[columnName][rawdata.Fixed_label==iColor][rawdata[columnName]>0].sum())]\n",
    "        \n",
    "        #intensityDict[indexE][indexC]=rawdata[columnName][rawdata.Fixed_label==iColor][rawdata[columnName]>0]"
   ]
  },
  {
   "cell_type": "code",
   "execution_count": 7,
   "metadata": {
    "collapsed": true
   },
   "outputs": [],
   "source": [
    "#this funciton takes to data set and compute probability that their values are different\n",
    "#by design, method can be specified. Default method is 'BOOTSTRAP' for non-parametric bootstrap\n",
    "#the number of sample can be specified, default value is 10000\n",
    "def computeDifference(dataSet1,dataSet2,PLOT=False,method='BOOTSTRAP',param={}):\n",
    "    if(method=='BOOTSTRAP'):\n",
    "        diff=list()\n",
    "        BootstrapSample=10000\n",
    "        if 'numSample' in param: \n",
    "            BootstrapSample=param['numSample'] \n",
    "            #print('Use user-specified numSample=',param['numSample'])\n",
    "        for i in range(0,BootstrapSample):\n",
    "            #note: pandas.sample() is the randomization function -> returns array -> use .values[0] to extract value\n",
    "            diff.append(dataSet1.sample().values[0]-dataSet2.sample().values[0])    \n",
    "        #Quantify positive difference i.e Pr(dataset1>dataset2)'\n",
    "        diff_arr=np.array(diff)\n",
    "        prob_diff=(diff_arr>0).sum()/BootstrapSample\n",
    "        \n",
    "    if(PLOT==True):\n",
    "        import matplotlib.pyplot as plt\n",
    "        #Plot difference histogram\n",
    "        plt.hist(diff)\n",
    "    \n",
    "    return prob_diff"
   ]
  },
  {
   "cell_type": "code",
   "execution_count": 8,
   "metadata": {
    "collapsed": true
   },
   "outputs": [],
   "source": [
    "#function to automatically compute pairwise Prob_diff matrix\n",
    "def computeDiffMatrix(top3,numSample={}):\n",
    "    matDiff=np.zeros([3,3])\n",
    "    for i in range(0,3):\n",
    "        for j in range(0,3):\n",
    "            #print('Computing difference between (i,j)=(',i,',',j,')')\n",
    "            matDiff[i,j]=computeDifference(intensityDict[iEmo][top3.loc[i].colorFixed],intensityDict[iEmo][top3.loc[j].colorFixed],True,'BOOTSTRAP',{'numSample':numSample})\n",
    "    #print('\\nDone. Returning Probability Difference matrix')\n",
    "    #print(top3.colorFixed)\n",
    "    #print('Note: interprete the matrix as probability of Color \"i\" rated with intensity significantly larger than Color \"j\"')\n",
    "    return matDiff\n",
    "    #computeDifference(intensityDict[iEmo][top3.loc[0].colorFixed],intensityDict[iEmo][top3.loc[1].colorFixed],True,'BOOTSTRAP',{'numSample':10000})\n",
    "    #computeDifference(intensityDict[iEmo][top3.loc[1].colorFixed],intensityDict[iEmo][top3.loc[0].colorFixed],True,'BOOTSTRAP',{'numSample':10000})\n",
    "    #computeDifference(intensityDict[iEmo][top3.loc[0].colorFixed],intensityDict[iEmo][top3.loc[2].colorFixed],True,'BOOTSTRAP',{'numSample':10000})\n",
    "    #computeDifference(intensityDict[iEmo][top3.loc[2].colorFixed],intensityDict[iEmo][top3.loc[0].colorFixed],True,'BOOTSTRAP',{'numSample':10000})\n",
    "    #computeDifference(intensityDict[iEmo][top3.loc[1].colorFixed],intensityDict[iEmo][top3.loc[2].colorFixed],True,'BOOTSTRAP',{'numSample':10000})\n",
    "    #computeDifference(intensityDict[iEmo][top3.loc[2].colorFixed],intensityDict[iEmo][top3.loc[1].colorFixed],True,'BOOTSTRAP',{'numSample':10000})\n",
    "    "
   ]
  },
  {
   "cell_type": "code",
   "execution_count": 9,
   "metadata": {},
   "outputs": [
    {
     "name": "stdout",
     "output_type": "stream",
     "text": [
      "Finish computation for emotion category: anger \t\t 1 / 10\n",
      "Finish computation for emotion category: calm \t\t 2 / 10\n",
      "Finish computation for emotion category: contempt \t\t 3 / 10\n",
      "Finish computation for emotion category: envy \t\t 4 / 10\n",
      "Finish computation for emotion category: disgust \t\t 5 / 10\n",
      "Finish computation for emotion category: fear \t\t 6 / 10\n",
      "Finish computation for emotion category: happy \t\t 7 / 10\n",
      "Finish computation for emotion category: jealousy \t\t 8 / 10\n",
      "Finish computation for emotion category: sad \t\t 9 / 10\n",
      "Finish computation for emotion category: surprise \t\t 10 / 10\n"
     ]
    },
    {
     "data": {
      "image/png": "[encoded data removed]",
      "text/plain": [
       "<matplotlib.figure.Figure at 0x7fe123d13b70>"
      ]
     },
     "metadata": {},
     "output_type": "display_data"
    }
   ],
   "source": [
    "#compute Diff probability matrix for each emotion\n",
    "diffMatDict=dict()\n",
    "top3=dict()\n",
    "for indexE,iEmo in enumerate(EMO_CAT):\n",
    "    #retrieve top3\n",
    "    #Test: display the frequency of top 3 color for 'fear' category, in Descending order\n",
    "    top3_temp=intensityDict[iEmo]['sum'].sort_values(by=['frequency'],ascending=False)[0:3]\n",
    "    #need to reset Panda index for only top3 entry\n",
    "    top3[iEmo]=top3_temp.reset_index(drop=True)\n",
    "    #Compute diffMat and store in dictionary\n",
    "    diffMatDict[iEmo]=computeDiffMatrix(top3[iEmo],1000)\n",
    "    print('Finish computation for emotion category:',iEmo,'\\t\\t',indexE+1,'/',len(EMO_CAT))\n",
    "    "
   ]
  },
  {
   "cell_type": "code",
   "execution_count": 12,
   "metadata": {},
   "outputs": [
    {
     "name": "stdout",
     "output_type": "stream",
     "text": [
      "anger   colorFixed  frequency\n",
      "0        red      512.0\n",
      "1      black      347.0\n",
      "2       gray       56.0\n",
      "[[ 0.21   0.612  0.77 ]\n",
      " [ 0.149  0.397  0.587]\n",
      " [ 0.078  0.292  0.439]]\n",
      "Percentage of top Color over total number of raters on the emotion 0.479400749064\n",
      "\n",
      "\n",
      "calm   colorFixed frequency\n",
      "0  lightblue       200\n",
      "1      lilac       140\n",
      "2    seablue       133\n",
      "[[ 0.353  0.504  0.621]\n",
      " [ 0.302  0.405  0.491]\n",
      " [ 0.218  0.361  0.431]]\n",
      "Percentage of top Color over total number of raters on the emotion 0.1568627450980392\n",
      "\n",
      "\n",
      "contempt   colorFixed  frequency\n",
      "0      black      119.0\n",
      "1      lilac       97.0\n",
      "2        red       69.0\n",
      "[[ 0.415  0.419  0.349]\n",
      " [ 0.397  0.399  0.341]\n",
      " [ 0.453  0.493  0.323]]\n",
      "Percentage of top Color over total number of raters on the emotion 0.120689655172\n",
      "\n",
      "\n",
      "envy    colorFixed  frequency\n",
      "0        jade      179.0\n",
      "1  kellygreen      178.0\n",
      "2   neongreen      112.0\n",
      "[[ 0.376  0.398  0.229]\n",
      " [ 0.42   0.418  0.24 ]\n",
      " [ 0.452  0.501  0.278]]\n",
      "Percentage of top Color over total number of raters on the emotion 0.177052423343\n",
      "\n",
      "\n",
      "disgust   colorFixed frequency\n",
      "0    mustard       233\n",
      "1      brown       220\n",
      "2      olive       190\n",
      "[[ 0.436  0.316  0.319]\n",
      " [ 0.56   0.392  0.405]\n",
      " [ 0.526  0.42   0.403]]\n",
      "Percentage of top Color over total number of raters on the emotion 0.22798434442270057\n",
      "\n",
      "\n",
      "fear   colorFixed  frequency\n",
      "0      black      369.0\n",
      "1        red      167.0\n",
      "2       gray      138.0\n",
      "[[ 0.336  0.512  0.635]\n",
      " [ 0.269  0.411  0.499]\n",
      " [ 0.222  0.372  0.45 ]]\n",
      "Percentage of top Color over total number of raters on the emotion 0.348441926346\n",
      "\n",
      "\n",
      "happy   colorFixed frequency\n",
      "0     yellow       339\n",
      "1  lightblue       176\n",
      "2    skyblue       145\n",
      "[[ 0.319  0.532  0.412]\n",
      " [ 0.254  0.392  0.303]\n",
      " [ 0.268  0.439  0.357]]\n",
      "Percentage of top Color over total number of raters on the emotion 0.2516703786191537\n",
      "\n",
      "\n",
      "jealousy    colorFixed frequency\n",
      "0         red       175\n",
      "1        jade       140\n",
      "2  kellygreen       121\n",
      "[[ 0.426  0.305  0.226]\n",
      " [ 0.542  0.342  0.305]\n",
      " [ 0.554  0.4    0.34 ]]\n",
      "Percentage of top Color over total number of raters on the emotion 0.16339869281045752\n",
      "\n",
      "\n",
      "sad   colorFixed  frequency\n",
      "0       gray      278.0\n",
      "1       blue      211.0\n",
      "2      black      151.0\n",
      "[[ 0.443  0.458  0.398]\n",
      " [ 0.429  0.386  0.391]\n",
      " [ 0.443  0.466  0.369]]\n",
      "Percentage of top Color over total number of raters on the emotion 0.240276577355\n",
      "\n",
      "\n",
      "surprise   colorFixed  frequency\n",
      "0     yellow      185.0\n",
      "1  bubblegum      171.0\n",
      "2    skyblue      138.0\n",
      "[[ 0.387  0.413  0.485]\n",
      " [ 0.44   0.391  0.564]\n",
      " [ 0.327  0.336  0.38 ]]\n",
      "Percentage of top Color over total number of raters on the emotion 0.170664206642\n",
      "\n",
      "\n"
     ]
    }
   ],
   "source": [
    "for index,iEmo in enumerate(EMO_CAT):\n",
    "    print(iEmo,top3[iEmo])\n",
    "    print(diffMatDict[iEmo])\n",
    "    print('Percentage of top Color over total number of raters on the emotion',top3[iEmo].frequency[0]/intensityDict[iEmo]['sum'].frequency.sum())\n",
    "    print('\\n')\n",
    "    #print(diffMatDict[iEmo]>0.7)"
   ]
  },
  {
   "cell_type": "code",
   "execution_count": null,
   "metadata": {
    "collapsed": true
   },
   "outputs": [],
   "source": []
  }
 ],
 "metadata": {
  "kernelspec": {
   "display_name": "Python 3",
   "language": "python",
   "name": "python3"
  },
  "language_info": {
   "codemirror_mode": {
    "name": "ipython",
    "version": 3
   },
   "file_extension": ".py",
   "mimetype": "text/x-python",
   "name": "python",
   "nbconvert_exporter": "python",
   "pygments_lexer": "ipython3",
   "version": "3.6.4"
  }
 },
 "nbformat": 4,
 "nbformat_minor": 2
}
